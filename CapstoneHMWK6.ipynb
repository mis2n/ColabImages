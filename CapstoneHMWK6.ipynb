{
  "nbformat": 4,
  "nbformat_minor": 0,
  "metadata": {
    "colab": {
      "name": "CapstoneHMWK6.ipynb",
      "provenance": [],
      "collapsed_sections": [],
      "include_colab_link": true
    },
    "kernelspec": {
      "name": "python3",
      "display_name": "Python 3"
    }
  },
  "cells": [
    {
      "cell_type": "markdown",
      "metadata": {
        "id": "view-in-github",
        "colab_type": "text"
      },
      "source": [
        "<a href=\"https://colab.research.google.com/github/mis2n/ColabImages/blob/main/CapstoneHMWK6.ipynb\" target=\"_parent\"><img src=\"https://colab.research.google.com/assets/colab-badge.svg\" alt=\"Open In Colab\"/></a>"
      ]
    },
    {
      "cell_type": "markdown",
      "metadata": {
        "id": "CmpBLAULDlpz"
      },
      "source": [
        "\n",
        "\n",
        "\n",
        "From: [https://en.wikipedia.org/wiki/Three-body_problem](https://en.wikipedia.org/wiki/Three-body_problem)\n",
        "\n",
        "\n",
        "\n",
        "*In 1893, Meissel stated what is now called the Pythagorean three-body problem: three masses in the ratio 3:4:5 are placed at rest at the vertices of a 3:4:5 right triangle. Burrau[8] further investigated this problem in 1913. In 1967 Victor Szebehely and C. Frederick Peters established eventual escape for this problem using numerical integration, while at the same time finding a nearby periodic solution.[9]*\n",
        "\n",
        "\n",
        "Another reference to this is:\n",
        "[http://www.ucolick.org/~laugh/oxide/projects/burrau.html](http://www.ucolick.org/~laugh/oxide/projects/burrau.html)\n",
        "\n",
        "For this problem, the initial conditons for this are:\n",
        "\n",
        "G = 1\n",
        "\n",
        "For mass 1:\n",
        "$$x = 0 \\\\\n",
        "y = 0 \\\\\n",
        "M = 5 \n",
        "$$\n",
        "\n",
        "For mass 2:\n",
        "$$x = 4 \\\\\n",
        "y = 0 \\\\\n",
        "M = 3\n",
        "$$\n",
        "\n",
        "For mass 3:\n",
        "$$x = 0 \\\\\n",
        "y = 3 \\\\\n",
        "M = 4\n",
        "$$\n",
        "\n",
        "The initial velocities are all zero.\n",
        "\n",
        "This is a video of this problem:\n",
        "[https://www.youtube.com/watch?v=Y2pi5Ra-ZFQ&feature=youtu.be](https://www.youtube.com/watch?v=Y2pi5Ra-ZFQ&feature=youtu.be)\n",
        "\n",
        "\n",
        "\n",
        "The equations governing this system are:\n",
        "\n",
        "\n",
        "$$\n",
        "\\frac{d^2x_i}{dt^2} = -\\frac{1}{M_i}\\left[ \\frac{G M_j (x_i-x_j)}{((x_i - x_j)^2 + (y_i - y_j)^2)^{3/2}}\n",
        "-\\frac{G M_k (x_i - x_k)}{((x_i - x_k)^2 + (y_i - y_k)^2)^{3/2}} \\right]\n",
        "$$\n",
        "\n",
        "\n",
        "$$\n",
        "\\frac{d^2y_i}{dt^2} = -\\frac{1}{M_i} \\left[ \\frac{G M_j (y_i-y_j)}{((y_i - y_j)^2 + (y_i - y_k)^2)^{3/2}}\n",
        "+ \\frac{G M_k (y_i - y_k)}{((x_i - x_k)^2 + (y_i - y_k)^2)^{3/2}} \\right]\n",
        "$$ \n"
      ]
    },
    {
      "cell_type": "markdown",
      "metadata": {
        "id": "Zap6rUEzFO05"
      },
      "source": [
        "### Homework 6 - Due Monday February 22\n",
        "\n",
        "\n",
        "*The underlying problem in Computational Science is being able to understand the uncertainty of your results.  This problem is difficult problem where numerical solutions can diverge rapidly from the actual solution.*\n",
        "\n",
        "#### The problem\n",
        "Find a numerical solution to the Pythagorian 3-body problem.  Record the final locations and velocities at:\n",
        "\n",
        "T = 250, 500, 750, 1000  (Optionally at 1500, 2000)\n",
        "\n",
        "**For the analysis:**\n",
        "- You must use QUAD precision for this problem.\n",
        "- Use the existing SCIPY routine for the integration.   \n",
        "- Repeat the calculation using the RK4 routine \n",
        "  - How does the step size affect the result\n",
        "  - Implement a RK45 routine - determine how setting a stepwise tolerance affects the final results.\n",
        "\n",
        "  - Implement a higher order or high accuracy ODE routine.   This could be a:\n",
        "    - [A 12th/10th order RK Nystrom routine](https://www.mathworks.com/matlabcentral/fileexchange/25291-rkn1210-a-12th-10th-order-runge-kutta-nystrom-integrator)\n",
        "    - [Richardson Extrapolation and Bulirsch-Stoer](http://www.physics.unlv.edu/~jeffery/astro/computer/numrec/f16-4.pdf)\n",
        "    - A similar higher order ODE\n",
        "\n",
        "\n",
        "**For this problem, you will work in a group of 3.**\n",
        "- You will turn in one report and one code (or group codes).  \n",
        "- You can use external code for the solvers, **BUT YOU MUST DOCUMENT WHEN YOU HAVE USED THIS CODE.**\n",
        "-  You must cite any references.\n",
        "- Your group should document the SPECIFIC tasks you did, including commments in the code for the sections you wrote.\n",
        "\n",
        "You may wish to use something besides Python to improve efficiency.\n",
        "\n",
        "The writeup should include:\n",
        "- Analysis of the error at the snapshots times\n",
        "  - How do different methods affect the result?\n",
        "  - Can you keep improving the accuracy by decreasing h without going to higher order?\n",
        "  - How does your higher order method work in comparision to the lower order method?\n",
        "    - How is the accuracy different between the methods?  \n",
        "    - How does the implemention differ in complexity?\n",
        "    - Which is the best option to use for a difficult problem like this.\n",
        "  - Did you get the correct answer after your efforts?\n",
        " \n",
        "\n",
        "Create a movie to animate the motion and publish it on youtube.  Because it will be cool!\n",
        "\n",
        "\n"
      ]
    },
    {
      "cell_type": "code",
      "metadata": {
        "id": "yRJFx4ehK2nq"
      },
      "source": [
        "import sympy as sym\n",
        "import numpy as np\n",
        "import matplotlib.pyplot as plt\n",
        "from scipy.integrate import odeint\n",
        "import math"
      ],
      "execution_count": 18,
      "outputs": []
    },
    {
      "cell_type": "code",
      "metadata": {
        "id": "SoOfPt9-UW4w"
      },
      "source": [
        "# a basic rk4 routine implemented in python\n",
        "#  based on an rk4 routine from:\n",
        "# https://math.okstate.edu/people/yqwang/teaching/math4513_fall11/Notes/rungekutta.pdf\n",
        "\n",
        "# the code has been modified to use arbitrary function names, return\n",
        "# output in an array, and have vectors of an arbitrary length for\n",
        "# its input\n",
        "\n",
        "\n",
        "\n",
        "def myrungekutta(fnct, h, t, nsteps, y0):\n",
        "# rk4 routine  \n",
        "# inputs:\n",
        "#.  fnct.  - a reference to a function to integrate\n",
        "#   h      - stepsize (dt)\n",
        "#   t      - starting time for the integration\n",
        "#   nsteps - number of steps to take during the integration\n",
        "#   y0     - initial conditions for the equation\n",
        "#\n",
        "#  outputs:\n",
        "#  output:  an array of the output values of system\n",
        "  y = y0\n",
        "  # find the number of values in the initial conditions array\n",
        "  ny = len(y)\n",
        "  output = np.zeros([nsteps,ny+1], np.float)\n",
        "\n",
        "  # loop over the array and calculate the position using an rk4\n",
        "  # ODE integration routine\n",
        "  for i in range(nsteps):\n",
        "    k1 = h*fnct(t,y)\n",
        "    k2 = h*fnct(t+h/2, y+k1/2)\n",
        "    k3 = h*fnct(t+h/2, y+k2/2)\n",
        "    k4 = h*fnct(t+h, y+k3)\n",
        "    y = y + (k1 + 2*(k2+k3) + k4)/6\n",
        "    t = t + h\n",
        "    output[i,0] = t\n",
        "    output[i,1:] = y[:]\n",
        "    if i < 25:\n",
        "      print(output[i])\n",
        "\n",
        "  return output\n",
        "\n",
        "##################\n",
        "def fnc(t,y):\n",
        "  xpos = y[0]\n",
        "  ypos = y[1]\n",
        "  xvel = y[2]\n",
        "  yvel = y[3]\n",
        "  r = np.sqrt(xpos*xpos + ypos*ypos)\n",
        "  k = 1\n",
        "  a = -k / r**2\n",
        "  ax = (a * xpos) / r\n",
        "  ay = (a * ypos) / r\n",
        "  return np.array([xvel, yvel, ax, ay])\n",
        "\n",
        "y = np.array([1,0,0,1/np.sqrt(2)])\n",
        "t0 = 0.0\n",
        "h = 0.000005\n",
        "tfinal = 5.0\n",
        "num_iter = math.ceil((tfinal - t0) / h)\n",
        "xf = []\n",
        "yf = []\n",
        "xb = []\n",
        "yb = []\n"
      ],
      "execution_count": 23,
      "outputs": []
    },
    {
      "cell_type": "code",
      "metadata": {
        "colab": {
          "base_uri": "https://localhost:8080/"
        },
        "id": "TyVZB1aclMa2",
        "outputId": "3b24e23d-8219-4673-9696-74c89bcb0f54"
      },
      "source": [
        "# Initial positions for  the Pythagorian 3-body problem\n",
        "m3 = [4, 0, 0, 0]\n",
        "m4 = [0, 3, 0, 0]\n",
        "m5 = [0, 0, 0, 0]\n",
        "\n",
        "'''\n",
        "Process steps\n",
        "_____________________________\n",
        "\n",
        "set initial condition for all 3 bodies\n",
        "for each time step\n",
        "  for each body\n",
        "    for each other body\n",
        "      calculate the distance between prime body and other bodies\n",
        "      calculate the change in x/y velocities of prime body due to other bodies\n",
        "    sum the changes caused by other bodies\n",
        "  update location and velocity of prime body\n",
        "  \n",
        "'''\n",
        "\n",
        "o = myrungekutta(fnc, h, t, num_iter, y)"
      ],
      "execution_count": 24,
      "outputs": [
        {
          "output_type": "stream",
          "text": [
            "[ 5.00000000e-06  1.00000000e+00  3.53553391e-06 -5.00000000e-06\n",
            "  7.07106781e-01]\n",
            "[ 1.00000000e-05  1.00000000e+00  7.07106781e-06 -1.00000000e-05\n",
            "  7.07106781e-01]\n",
            "[ 1.50000000e-05  1.00000000e+00  1.06066017e-05 -1.50000000e-05\n",
            "  7.07106781e-01]\n",
            "[ 2.00000000e-05  1.00000000e+00  1.41421356e-05 -2.00000000e-05\n",
            "  7.07106781e-01]\n",
            "[ 2.50000000e-05  1.00000000e+00  1.76776695e-05 -2.50000000e-05\n",
            "  7.07106781e-01]\n",
            "[ 3.00000000e-05  1.00000000e+00  2.12132034e-05 -3.00000000e-05\n",
            "  7.07106781e-01]\n",
            "[ 3.50000000e-05  9.99999999e-01  2.47487373e-05 -3.50000000e-05\n",
            "  7.07106781e-01]\n",
            "[ 4.00000000e-05  9.99999999e-01  2.82842712e-05 -4.00000000e-05\n",
            "  7.07106781e-01]\n",
            "[ 4.50000000e-05  9.99999999e-01  3.18198051e-05 -4.50000000e-05\n",
            "  7.07106780e-01]\n",
            "[ 5.00000000e-05  9.99999999e-01  3.53553390e-05 -5.00000000e-05\n",
            "  7.07106780e-01]\n",
            "[ 5.50000000e-05  9.99999998e-01  3.88908729e-05 -5.50000000e-05\n",
            "  7.07106780e-01]\n",
            "[ 6.00000000e-05  9.99999998e-01  4.24264068e-05 -6.00000000e-05\n",
            "  7.07106780e-01]\n",
            "[ 6.50000000e-05  9.99999998e-01  4.59619407e-05 -6.50000000e-05\n",
            "  7.07106780e-01]\n",
            "[ 7.00000000e-05  9.99999998e-01  4.94974746e-05 -7.00000000e-05\n",
            "  7.07106779e-01]\n",
            "[ 7.50000000e-05  9.99999997e-01  5.30330085e-05 -7.50000000e-05\n",
            "  7.07106779e-01]\n",
            "[ 8.00000000e-05  9.99999997e-01  5.65685424e-05 -8.00000000e-05\n",
            "  7.07106779e-01]\n",
            "[ 8.50000000e-05  9.99999996e-01  6.01040763e-05 -8.50000001e-05\n",
            "  7.07106779e-01]\n",
            "[ 9.00000000e-05  9.99999996e-01  6.36396102e-05 -9.00000001e-05\n",
            "  7.07106778e-01]\n",
            "[ 9.50000000e-05  9.99999995e-01  6.71751441e-05 -9.50000001e-05\n",
            "  7.07106778e-01]\n",
            "[ 1.00000000e-04  9.99999995e-01  7.07106780e-05 -1.00000000e-04\n",
            "  7.07106778e-01]\n",
            "[ 1.05000000e-04  9.99999994e-01  7.42462119e-05 -1.05000000e-04\n",
            "  7.07106777e-01]\n",
            "[ 1.10000000e-04  9.99999994e-01  7.77817458e-05 -1.10000000e-04\n",
            "  7.07106777e-01]\n",
            "[ 1.15000000e-04  9.99999993e-01  8.13172797e-05 -1.15000000e-04\n",
            "  7.07106777e-01]\n",
            "[ 1.20000000e-04  9.99999993e-01  8.48528135e-05 -1.20000000e-04\n",
            "  7.07106776e-01]\n",
            "[ 1.25000000e-04  9.99999992e-01  8.83883474e-05 -1.25000000e-04\n",
            "  7.07106776e-01]\n"
          ],
          "name": "stdout"
        }
      ]
    },
    {
      "cell_type": "code",
      "metadata": {
        "colab": {
          "base_uri": "https://localhost:8080/",
          "height": 349
        },
        "id": "8tYwWWLuIGzC",
        "outputId": "6c3d4a69-c5a1-4f84-e895-b9cebe1d90bc"
      },
      "source": [
        "fig = plt.figure()\r\n",
        "plt.title('RK4 Solution')\r\n",
        "plt.xlabel('x')\r\n",
        "plt.ylabel('y')\r\n",
        "ax = fig.add_subplot(111)\r\n",
        "plt.plot( o[:,1], o[:,2])\r\n",
        "ax.set_aspect('equal')\r\n",
        "plt.show()"
      ],
      "execution_count": 25,
      "outputs": [
        {
          "output_type": "stream",
          "text": [
            "/usr/local/lib/python3.6/dist-packages/ipykernel_launcher.py:5: MatplotlibDeprecationWarning: Adding an axes using the same arguments as a previous axes currently reuses the earlier instance.  In a future version, a new instance will always be created and returned.  Meanwhile, this warning can be suppressed, and the future behavior ensured, by passing a unique label to each axes instance.\n",
            "  \"\"\"\n"
          ],
          "name": "stderr"
        },
        {
          "output_type": "display_data",
          "data": {
            "image/png": "[encoded data removed]",
            "text/plain": [
              "<Figure size 432x288 with 1 Axes>"
            ]
          },
          "metadata": {
            "tags": [],
            "needs_background": "light"
          }
        }
      ]
    }
  ]
}